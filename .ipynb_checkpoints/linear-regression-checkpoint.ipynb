{
 "cells": [
  {
   "cell_type": "code",
   "execution_count": 1,
   "id": "a3bcbd12-090e-464d-8bd2-f3a583011543",
   "metadata": {},
   "outputs": [],
   "source": [
    "import pandas as pd\n",
    "import matplotlib.pyplot as plt\n",
    "from sklearn.linear_model import LinearRegression\n",
    "from sklearn.model_selection import train_test_split"
   ]
  },
  {
   "cell_type": "code",
   "execution_count": 2,
   "id": "3e41585f-013e-4b4f-8b48-e5ac905893ba",
   "metadata": {},
   "outputs": [],
   "source": [
    "data = pd.read_csv('insurance.csv')"
   ]
  },
  {
   "cell_type": "code",
   "execution_count": 3,
   "id": "104be82d-5765-4255-ae20-5750e6dce7cc",
   "metadata": {},
   "outputs": [
    {
     "data": {
      "text/plain": [
       "Index(['age', 'sex', 'bmi', 'children', 'smoker', 'region', 'charges'], dtype='object')"
      ]
     },
     "execution_count": 3,
     "metadata": {},
     "output_type": "execute_result"
    }
   ],
   "source": [
    "data.keys()"
   ]
  },
  {
   "cell_type": "markdown",
   "id": "600008b0-b7eb-46f6-b5ac-4451eaf7c56e",
   "metadata": {
    "tags": []
   },
   "source": [
    "# Show the first five rows of the data set"
   ]
  },
  {
   "cell_type": "code",
   "execution_count": 4,
   "id": "f6d95985-f908-4816-8450-88b1d43aafe4",
   "metadata": {},
   "outputs": [
    {
     "data": {
      "text/html": [
       "<div>\n",
       "<style scoped>\n",
       "    .dataframe tbody tr th:only-of-type {\n",
       "        vertical-align: middle;\n",
       "    }\n",
       "\n",
       "    .dataframe tbody tr th {\n",
       "        vertical-align: top;\n",
       "    }\n",
       "\n",
       "    .dataframe thead th {\n",
       "        text-align: right;\n",
       "    }\n",
       "</style>\n",
       "<table border=\"1\" class=\"dataframe\">\n",
       "  <thead>\n",
       "    <tr style=\"text-align: right;\">\n",
       "      <th></th>\n",
       "      <th>age</th>\n",
       "      <th>sex</th>\n",
       "      <th>bmi</th>\n",
       "      <th>children</th>\n",
       "      <th>smoker</th>\n",
       "      <th>region</th>\n",
       "      <th>charges</th>\n",
       "    </tr>\n",
       "  </thead>\n",
       "  <tbody>\n",
       "    <tr>\n",
       "      <th>0</th>\n",
       "      <td>19</td>\n",
       "      <td>female</td>\n",
       "      <td>27.900</td>\n",
       "      <td>0</td>\n",
       "      <td>yes</td>\n",
       "      <td>southwest</td>\n",
       "      <td>16884.92400</td>\n",
       "    </tr>\n",
       "    <tr>\n",
       "      <th>1</th>\n",
       "      <td>18</td>\n",
       "      <td>male</td>\n",
       "      <td>33.770</td>\n",
       "      <td>1</td>\n",
       "      <td>no</td>\n",
       "      <td>southeast</td>\n",
       "      <td>1725.55230</td>\n",
       "    </tr>\n",
       "    <tr>\n",
       "      <th>2</th>\n",
       "      <td>28</td>\n",
       "      <td>male</td>\n",
       "      <td>33.000</td>\n",
       "      <td>3</td>\n",
       "      <td>no</td>\n",
       "      <td>southeast</td>\n",
       "      <td>4449.46200</td>\n",
       "    </tr>\n",
       "    <tr>\n",
       "      <th>3</th>\n",
       "      <td>33</td>\n",
       "      <td>male</td>\n",
       "      <td>22.705</td>\n",
       "      <td>0</td>\n",
       "      <td>no</td>\n",
       "      <td>northwest</td>\n",
       "      <td>21984.47061</td>\n",
       "    </tr>\n",
       "    <tr>\n",
       "      <th>4</th>\n",
       "      <td>32</td>\n",
       "      <td>male</td>\n",
       "      <td>28.880</td>\n",
       "      <td>0</td>\n",
       "      <td>no</td>\n",
       "      <td>northwest</td>\n",
       "      <td>3866.85520</td>\n",
       "    </tr>\n",
       "  </tbody>\n",
       "</table>\n",
       "</div>"
      ],
      "text/plain": [
       "   age     sex     bmi  children smoker     region      charges\n",
       "0   19  female  27.900         0    yes  southwest  16884.92400\n",
       "1   18    male  33.770         1     no  southeast   1725.55230\n",
       "2   28    male  33.000         3     no  southeast   4449.46200\n",
       "3   33    male  22.705         0     no  northwest  21984.47061\n",
       "4   32    male  28.880         0     no  northwest   3866.85520"
      ]
     },
     "execution_count": 4,
     "metadata": {},
     "output_type": "execute_result"
    }
   ],
   "source": [
    "data.head(5)"
   ]
  },
  {
   "cell_type": "markdown",
   "id": "7d26c481-0721-4691-8451-73d342a39725",
   "metadata": {
    "tags": []
   },
   "source": [
    "# Show the description and the info of the data set"
   ]
  },
  {
   "cell_type": "code",
   "execution_count": 5,
   "id": "39671559-25fd-47a1-b75b-0937acb6e861",
   "metadata": {},
   "outputs": [
    {
     "name": "stdout",
     "output_type": "stream",
     "text": [
      "<class 'pandas.core.frame.DataFrame'>\n",
      "RangeIndex: 1338 entries, 0 to 1337\n",
      "Data columns (total 7 columns):\n",
      " #   Column    Non-Null Count  Dtype  \n",
      "---  ------    --------------  -----  \n",
      " 0   age       1338 non-null   int64  \n",
      " 1   sex       1338 non-null   object \n",
      " 2   bmi       1338 non-null   float64\n",
      " 3   children  1338 non-null   int64  \n",
      " 4   smoker    1338 non-null   object \n",
      " 5   region    1338 non-null   object \n",
      " 6   charges   1338 non-null   float64\n",
      "dtypes: float64(2), int64(2), object(3)\n",
      "memory usage: 73.3+ KB\n"
     ]
    }
   ],
   "source": [
    "discription = data.describe()\n",
    "discription\n",
    "info = data.info()\n",
    "info"
   ]
  },
  {
   "cell_type": "markdown",
   "id": "03fc145d-6378-479c-804e-cd9b564c9a97",
   "metadata": {},
   "source": [
    "# Using a regression model, split your data into train and test data"
   ]
  },
  {
   "cell_type": "code",
   "execution_count": 6,
   "id": "f14219ee-c135-48c4-98ce-65792bf190cb",
   "metadata": {},
   "outputs": [
    {
     "name": "stdout",
     "output_type": "stream",
     "text": [
      "X_train shape: (936, 1)\n",
      "y_train shape: (936,)\n",
      "X_test shape: (402, 1)\n",
      "y_test shape: (402,)\n"
     ]
    }
   ],
   "source": [
    "X = data['age'].values\n",
    "Y = data['children'].values\n",
    "X = X.reshape(-1, 1)\n",
    "x_train, x_test = train_test_split(X, train_size = 0.7, test_size = 0.3, random_state = 100)\n",
    "y_train, y_test = train_test_split(Y, train_size = 0.7, test_size = 0.3, random_state = 100)\n",
    "\n",
    "print(f\"X_train shape: {x_train.shape}\")\n",
    "print(f\"y_train shape: {y_train.shape}\")\n",
    "print(f\"X_test shape: {x_test.shape}\")\n",
    "print(f\"y_test shape: {y_test.shape}\")"
   ]
  },
  {
   "cell_type": "markdown",
   "id": "851ab034-44dc-4741-95d3-c05b28efa407",
   "metadata": {},
   "source": [
    "# Fit your training split to the regression model"
   ]
  },
  {
   "cell_type": "code",
   "execution_count": 7,
   "id": "88018c51-de3a-459e-a6f9-d25c304b7bcf",
   "metadata": {},
   "outputs": [],
   "source": [
    "model_regression = LinearRegression()\n",
    "model_regression.fit(x_train, y_train)\n",
    "model_regression.fit(x_test, y_test)\n",
    "\n",
    "prediction = model_regression.predict(x_test)"
   ]
  },
  {
   "cell_type": "markdown",
   "id": "c41c506d-3bcb-4587-943a-20a7445eed57",
   "metadata": {},
   "source": [
    "# Show your regression model’s score"
   ]
  },
  {
   "cell_type": "code",
   "execution_count": 8,
   "id": "e7caae08-5f56-420d-8303-bb2e07edbd0d",
   "metadata": {},
   "outputs": [],
   "source": [
    "train_score = ( f'{round(model_regression.score(x_train, y_train)*100,2)} %')\n",
    "test_score = (f'{round(model_regression.score(x_test, y_test)*100,2)} %')"
   ]
  },
  {
   "cell_type": "code",
   "execution_count": 9,
   "id": "e0781142-5bcb-46eb-b8ba-545d3c118a4b",
   "metadata": {},
   "outputs": [
    {
     "name": "stdout",
     "output_type": "stream",
     "text": [
      "Train accurecy: 0.13 %\n",
      "Test accurecy: 0.19 %\n"
     ]
    }
   ],
   "source": [
    "print(f'Train accurecy: {train_score}') \n",
    "print(f'Test accurecy: {test_score}') "
   ]
  },
  {
   "cell_type": "markdown",
   "id": "ebf67160-8fcf-4f90-9771-64c0cb2aed0b",
   "metadata": {},
   "source": [
    "# Draw at least three conclusions from your regression model"
   ]
  },
  {
   "cell_type": "markdown",
   "id": "e95be99b-81c1-4a3e-a488-55543f5537c9",
   "metadata": {},
   "source": [
    "## conclusion (1)"
   ]
  },
  {
   "cell_type": "code",
   "execution_count": 10,
   "id": "35796257-8eaa-4f38-8ea7-58de7e6b7261",
   "metadata": {},
   "outputs": [
    {
     "data": {
      "image/png": "[encoded data removed]",
      "text/plain": [
       "<Figure size 432x288 with 1 Axes>"
      ]
     },
     "metadata": {
      "needs_background": "light"
     },
     "output_type": "display_data"
    }
   ],
   "source": [
    "%matplotlib inline\n",
    "\n",
    "plt.scatter(x_train, y_train, color='green')\n",
    "plt.scatter(x_test, y_test, color='red')\n",
    "plt.plot(x_test, prediction, color='blue')\n",
    "plt.xlabel('age')\n",
    "plt.ylabel('children')\n",
    "plt.show()"
   ]
  },
  {
   "cell_type": "markdown",
   "id": "07e089af-ec89-47b6-96ae-19f63f8f45d3",
   "metadata": {},
   "source": [
    "## conclusion (2)"
   ]
  },
  {
   "cell_type": "code",
   "execution_count": 11,
   "id": "7896136d-cf06-4fc8-ada9-ce2b02f3430f",
   "metadata": {},
   "outputs": [
    {
     "data": {
      "image/png": "[encoded data removed]",
      "text/plain": [
       "<Figure size 432x288 with 1 Axes>"
      ]
     },
     "metadata": {
      "needs_background": "light"
     },
     "output_type": "display_data"
    }
   ],
   "source": [
    "X = data['age'].values\n",
    "Y = data['children'].values\n",
    "X = X.reshape(-1,3)\n",
    "plt.scatter(x_train, y_train, color='red')\n",
    "plt.plot(x_test, prediction, color='black')\n",
    "plt.show()"
   ]
  },
  {
   "cell_type": "markdown",
   "id": "3d8973b5-d9ea-420f-ac3b-b9f6c3039661",
   "metadata": {},
   "source": [
    "## conclusion (3)"
   ]
  },
  {
   "cell_type": "code",
   "execution_count": 12,
   "id": "6bbec095-4f36-452d-b531-ffec5543acc0",
   "metadata": {},
   "outputs": [
    {
     "data": {
      "image/png": "[encoded data removed]",
      "text/plain": [
       "<Figure size 432x288 with 1 Axes>"
      ]
     },
     "metadata": {
      "needs_background": "light"
     },
     "output_type": "display_data"
    }
   ],
   "source": [
    "X = data['age'].values\n",
    "Y = data['children'].values\n",
    "X = X.reshape(-2,2)\n",
    "plt.scatter(x_train, y_train, color='blue')\n",
    "plt.plot(x_test, prediction, color='black')\n",
    "plt.show()"
   ]
  }
 ],
 "metadata": {
  "kernelspec": {
   "display_name": "Python 3 (ipykernel)",
   "language": "python",
   "name": "python3"
  },
  "language_info": {
   "codemirror_mode": {
    "name": "ipython",
    "version": 3
   },
   "file_extension": ".py",
   "mimetype": "text/x-python",
   "name": "python",
   "nbconvert_exporter": "python",
   "pygments_lexer": "ipython3",
   "version": "3.9.5"
  }
 },
 "nbformat": 4,
 "nbformat_minor": 5
}
